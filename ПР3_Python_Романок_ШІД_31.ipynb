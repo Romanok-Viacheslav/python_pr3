{
  "nbformat": 4,
  "nbformat_minor": 0,
  "metadata": {
    "colab": {
      "provenance": []
    },
    "kernelspec": {
      "name": "python3",
      "display_name": "Python 3"
    },
    "language_info": {
      "name": "python"
    }
  },
  "cells": [
    {
      "cell_type": "markdown",
      "source": [
        "# I. range."
      ],
      "metadata": {
        "id": "bhnw_OBiped2"
      }
    },
    {
      "cell_type": "markdown",
      "source": [
        "1. (4 бали) Створіть обʼєкт типу range, який буде містити послідовність цілих чисел від 0 до 9 включно. Виведіть його довжину (кількість значень)."
      ],
      "metadata": {
        "id": "cS4sWGwctkLH"
      }
    },
    {
      "cell_type": "code",
      "source": [
        "my_range = range(10)\n",
        "print(len(my_range))"
      ],
      "metadata": {
        "id": "1XFhN5gVte4X",
        "colab": {
          "base_uri": "https://localhost:8080/"
        },
        "outputId": "2aee1175-6f85-43a7-9f64-270a4bc46a14"
      },
      "execution_count": null,
      "outputs": [
        {
          "output_type": "stream",
          "name": "stdout",
          "text": [
            "10\n"
          ]
        }
      ]
    },
    {
      "cell_type": "markdown",
      "source": [
        "2. (5 балів) Створіть обʼєкт типу range, який буде містити послідовність цілих чисел (16, 13, 10, 7, 4, 1, -2, -5)"
      ],
      "metadata": {
        "id": "VZ0Dh0m-t9tM"
      }
    },
    {
      "cell_type": "code",
      "execution_count": null,
      "metadata": {
        "id": "YavF1Agaoe8J",
        "colab": {
          "base_uri": "https://localhost:8080/"
        },
        "outputId": "e48cd91d-759e-416b-d5eb-4bfc85d32f4e"
      },
      "outputs": [
        {
          "output_type": "stream",
          "name": "stdout",
          "text": [
            "16 13 10 7 4 1 -2 -5\n"
          ]
        }
      ],
      "source": [
        "my_range = range(16, -6, -3)\n",
        "print(*my_range)"
      ]
    },
    {
      "cell_type": "markdown",
      "source": [
        "3. (4 бали) Створіть змінну зі значенням цілого типу. Перевірте, чи вона належить проміжку від 49 до 100 включно. Як ви гадаєте, для чого використовуються range?"
      ],
      "metadata": {
        "id": "nBmE3_nMuavj"
      }
    },
    {
      "cell_type": "code",
      "source": [
        "my_variable = 50\n",
        "if 49 <= my_variable <= 100:\n",
        "    print(\"The variable belongs to the range from 49 to 100 inclusive\")\n",
        "else:\n",
        "    print(\"The variable does not belong to the range from 49 to 100 inclusive\")"
      ],
      "metadata": {
        "id": "5KmgBmOIuku4",
        "colab": {
          "base_uri": "https://localhost:8080/"
        },
        "outputId": "d66379a3-c031-4028-f034-5772c857dffc"
      },
      "execution_count": null,
      "outputs": [
        {
          "output_type": "stream",
          "name": "stdout",
          "text": [
            "The variable belongs to the range from 49 to 100 inclusive\n"
          ]
        }
      ]
    },
    {
      "cell_type": "markdown",
      "source": [
        "range - це функція, яка генерує послідовність чисел для ітерації через цикл for або для інших операцій, де потрібен діапазон чисел."
      ],
      "metadata": {
        "id": "hZHtKQUJxDxj"
      }
    },
    {
      "cell_type": "markdown",
      "source": [
        "# II. Comprehensions."
      ],
      "metadata": {
        "id": "56FjMkPatTD6"
      }
    },
    {
      "cell_type": "markdown",
      "source": [
        "4. (6 балів) Створіть множину (set), використовуючи range та set comprehension."
      ],
      "metadata": {
        "id": "AZyfyNfYvOyq"
      }
    },
    {
      "cell_type": "code",
      "source": [
        "my_set = set(range(10))\n",
        "print(*my_set)"
      ],
      "metadata": {
        "id": "DE8oNYSUvNfR",
        "colab": {
          "base_uri": "https://localhost:8080/"
        },
        "outputId": "f8499e27-5478-4dca-88ef-f4912228f448"
      },
      "execution_count": null,
      "outputs": [
        {
          "output_type": "stream",
          "name": "stdout",
          "text": [
            "0 1 2 3 4 5 6 7 8 9\n"
          ]
        }
      ]
    },
    {
      "cell_type": "markdown",
      "source": [
        "5. (8 балів) Створіть словник, використовуючи dict comprehension, що містить if else. Коли слід використовувати comprehensions, а коли їх слід уникати?"
      ],
      "metadata": {
        "id": "5IsyYnolvWxJ"
      }
    },
    {
      "cell_type": "code",
      "source": [
        "my_dict = {x: 'even' if x % 2 == 0 else 'odd' for x in range(1, 11)}\n",
        "print(my_dict)"
      ],
      "metadata": {
        "id": "PTLiarj4vWVu",
        "colab": {
          "base_uri": "https://localhost:8080/"
        },
        "outputId": "b449cbed-b971-4217-fb56-5c0f786a5d37"
      },
      "execution_count": null,
      "outputs": [
        {
          "output_type": "stream",
          "name": "stdout",
          "text": [
            "{1: 'odd', 2: 'even', 3: 'odd', 4: 'even', 5: 'odd', 6: 'even', 7: 'odd', 8: 'even', 9: 'odd', 10: 'even'}\n"
          ]
        }
      ]
    },
    {
      "cell_type": "markdown",
      "source": [
        "Comprehensions слід використовувати для створення простих структур даних та швидкої ініціалізації колекцій. Їх слід уникати, якщо вони призводять до складності читання чи зрозумілості коду, а також коли вирази стають довгими."
      ],
      "metadata": {
        "id": "PcwgYcjdxYPA"
      }
    },
    {
      "cell_type": "markdown",
      "source": [
        "6. (7 балів) Створіть список з рядками та запишіть його у змінну. Створіть ще один список на основі попереднього, де кожен рядок буде містити тільки три перших заглавних символи. Наприклад: ['hello', 'i', 'dont', 'care'] -> ['HEL', 'I', 'DON', 'CAR']"
      ],
      "metadata": {
        "id": "xPVEDwk6vfhU"
      }
    },
    {
      "cell_type": "code",
      "source": [
        "original_list = ['hello', 'i', 'dont', 'care']\n",
        "\n",
        "modified_list = [word[:3].upper() for word in original_list]\n",
        "\n",
        "print(\"Initial list: \", original_list)\n",
        "print(\"Changed list: \", modified_list)"
      ],
      "metadata": {
        "id": "l1FAM69Owi7q",
        "colab": {
          "base_uri": "https://localhost:8080/"
        },
        "outputId": "28a6087c-8867-4043-e147-75ea2c6dd0a4"
      },
      "execution_count": null,
      "outputs": [
        {
          "output_type": "stream",
          "name": "stdout",
          "text": [
            "Initial list:  ['hello', 'i', 'dont', 'care']\n",
            "Changed list:  ['HEL', 'I', 'DON', 'CAR']\n"
          ]
        }
      ]
    },
    {
      "cell_type": "markdown",
      "source": [
        "# III. Цикли."
      ],
      "metadata": {
        "id": "9zEB8ekEtTnQ"
      }
    },
    {
      "cell_type": "markdown",
      "source": [
        "7. (6 балів) Продемонструйте роботу циклу while. Чи можна використовувати в умові циклу булеві значення? Чому?"
      ],
      "metadata": {
        "id": "AlEfFe4Fwv8n"
      }
    },
    {
      "cell_type": "code",
      "source": [
        "variable = True\n",
        "while variable:\n",
        "    user_input = input(\"Enter 'Exit' to exit: \")\n",
        "    if user_input.lower() == 'exit':\n",
        "        variable = False\n",
        "    else:\n",
        "        print(f'You entered: {user_input}')"
      ],
      "metadata": {
        "id": "kiDSbqo0wwMZ",
        "colab": {
          "base_uri": "https://localhost:8080/"
        },
        "outputId": "b2779357-7c43-400b-e379-5a9f66f048b0"
      },
      "execution_count": 1,
      "outputs": [
        {
          "name": "stdout",
          "output_type": "stream",
          "text": [
            "Enter 'Exit' to exit: Romanok Viacheslav AI-31\n",
            "You entered: Romanok Viacheslav AI-31\n",
            "Enter 'Exit' to exit: EXIT\n"
          ]
        }
      ]
    },
    {
      "cell_type": "markdown",
      "source": [
        "Умова циклу використовується для перевірки, чи має він продовжуватися, саме тому булеві значення, такі як True і False можуть використовуватися в умовах циклу."
      ],
      "metadata": {
        "id": "SjMiJAdXcPub"
      }
    },
    {
      "cell_type": "markdown",
      "source": [
        "8. (8 балів) Напишіть програму, яка виведе на екран непарні числа в діапазоні від 0 до 20 включно."
      ],
      "metadata": {
        "id": "J9TkD5_Cx3I1"
      }
    },
    {
      "cell_type": "code",
      "source": [
        "for i in range(1, 21, 2):\n",
        "    print(i)"
      ],
      "metadata": {
        "id": "5A1d-qvVx34B",
        "colab": {
          "base_uri": "https://localhost:8080/"
        },
        "outputId": "eae52999-6fd7-4240-96b3-63ca7bf6fb82"
      },
      "execution_count": null,
      "outputs": [
        {
          "output_type": "stream",
          "name": "stdout",
          "text": [
            "1\n",
            "3\n",
            "5\n",
            "7\n",
            "9\n",
            "11\n",
            "13\n",
            "15\n",
            "17\n",
            "19\n"
          ]
        }
      ]
    },
    {
      "cell_type": "code",
      "source": [
        "for i in range(21):\n",
        "    if i % 2 != 0:\n",
        "        print(i)"
      ],
      "metadata": {
        "colab": {
          "base_uri": "https://localhost:8080/"
        },
        "id": "ZOF6Y6sCdMOa",
        "outputId": "4d810507-0fde-4bea-f95e-f1844686ce45"
      },
      "execution_count": null,
      "outputs": [
        {
          "output_type": "stream",
          "name": "stdout",
          "text": [
            "1\n",
            "3\n",
            "5\n",
            "7\n",
            "9\n",
            "11\n",
            "13\n",
            "15\n",
            "17\n",
            "19\n"
          ]
        }
      ]
    },
    {
      "cell_type": "markdown",
      "source": [
        "9. (7 балів) Створіть список з елементами булевого типу або None. Використовуючи цикли, отримайте в результаті список з кортежами, де перший елемент кортежу - індекс(ціле число), а другий елемент - відповідне значення з першого списку.\n",
        "\n",
        "Наприклад, [True, True, None, False] -> [(0, True), (1, True), (2, None), (3, False)]"
      ],
      "metadata": {
        "id": "xN6Kfmqex4NU"
      }
    },
    {
      "cell_type": "code",
      "source": [
        "initial_list = [True, True, None, False]\n",
        "result_list = list(enumerate(initial_list))\n",
        "print(result_list)"
      ],
      "metadata": {
        "id": "YhVlQnNIx405",
        "colab": {
          "base_uri": "https://localhost:8080/"
        },
        "outputId": "6a577d5e-caad-4577-ae08-bcf49cbb69f7"
      },
      "execution_count": null,
      "outputs": [
        {
          "output_type": "stream",
          "name": "stdout",
          "text": [
            "[(0, True), (1, True), (2, None), (3, False)]\n"
          ]
        }
      ]
    },
    {
      "cell_type": "markdown",
      "source": [
        "10. (10 балів) Створіть словник, де ключі - назви книжок, а значення - їхня кількість у наявності в Вашій міні-бібліотеці. Бібліотека має містити щонайменше 6 книжок (6 пар значень у словнику) і щонайбільше 10 (пар значень). Використовуючи цикли, оновіть словник (не створюйте новий) так, щоби кількість книг у наявності збільшилося на 5 кожної книги. Наприклад,\n",
        "{'It': 3, 'Fault stars': 10, 'Bible': 17, 'Psychological romance': 4, 'Harry Potter': 13} -> {'It': 8, 'Fault stars': 15, 'Bible': 22, 'Psychological romance': 9, 'Harry Potter': 18}"
      ],
      "metadata": {
        "id": "cJNlWxHLx5mW"
      }
    },
    {
      "cell_type": "code",
      "source": [
        "books = {'It': 3, 'Fault stars': 10, 'Bible': 17, 'Psychological romance': 4, 'Harry Potter': 13, 'War and Peace': 7, 'The Great Gatsby': 90}\n",
        "\n",
        "for book in books:\n",
        "    books[book] += 5\n",
        "\n",
        "print(books)"
      ],
      "metadata": {
        "id": "pI7I71ao0qh_",
        "colab": {
          "base_uri": "https://localhost:8080/"
        },
        "outputId": "b098a719-bc5c-4602-a045-6cb45346374a"
      },
      "execution_count": 2,
      "outputs": [
        {
          "output_type": "stream",
          "name": "stdout",
          "text": [
            "{'It': 8, 'Fault stars': 15, 'Bible': 22, 'Psychological romance': 9, 'Harry Potter': 18, 'War and Peace': 12, 'The Great Gatsby': 95}\n"
          ]
        }
      ]
    },
    {
      "cell_type": "markdown",
      "source": [
        "11. (15 балів) Визначте цілочислену змінну n, що належить проміжку від 4 до 10 включно. Використовуючи цикли, виведіть в консоль наступний патерн.\n",
        "\n",
        "#\n",
        "##\n",
        "###\n",
        "####\n",
        "\n",
        "... #*n\n"
      ],
      "metadata": {
        "id": "qdZA6qi82GBa"
      }
    },
    {
      "cell_type": "code",
      "source": [
        "n = int(input(\"Enter an integer between 4 and 10 inclusive: \"))\n",
        "\n",
        "if 4 <= n <= 10:\n",
        "    for i in range(1, n + 1):\n",
        "        print(\"#\" * i)\n",
        "else:\n",
        "    print(\"n is not in the required range.\")"
      ],
      "metadata": {
        "id": "aaHuUQHfx6YO",
        "colab": {
          "base_uri": "https://localhost:8080/"
        },
        "outputId": "f57d2fe1-f405-4947-d6c0-fcbebbfcb44c"
      },
      "execution_count": 4,
      "outputs": [
        {
          "output_type": "stream",
          "name": "stdout",
          "text": [
            "Enter an integer between 4 and 10 inclusive: 8\n",
            "#\n",
            "##\n",
            "###\n",
            "####\n",
            "#####\n",
            "######\n",
            "#######\n",
            "########\n"
          ]
        }
      ]
    },
    {
      "cell_type": "markdown",
      "source": [
        "12. (20 балів) Гра \"Нумо вгадай\".\n",
        "Розробіть просту гру, де користувач має вгадати випадкове число від 1 до 100. Для генерації випадкового числа використовуйте функцію random.randint(a, b) (тут a та b включно). Для отримання числа з консолі використовуйте функцію input(), результат якої обовʼязково явно приведіть до типу int.\n",
        "\n",
        "Підказка: використовуйте цикл while та умови if-else, щоб повідомити користувачу піказки (напр. \"Більше\", \"Менше\") поки користувач не вгадає. По завершенню виведіть кількість спроб, які знадобилися для вгадування.\n"
      ],
      "metadata": {
        "id": "XOniyaun74Ed"
      }
    },
    {
      "cell_type": "code",
      "source": [
        "import random\n",
        "from random import randint\n",
        "random_number = random.randint(1, 100)\n",
        "attempts = 0\n",
        "\n",
        "while True:\n",
        "    try:\n",
        "        user_guess = int(input(\"Try to guess a number from 1 to 100: \"))\n",
        "        attempts += 1\n",
        "        if user_guess < random_number:\n",
        "            print(\"The guessed number is higher\")\n",
        "        elif user_guess > random_number:\n",
        "            print(\"The guessed number is less\")\n",
        "        else:\n",
        "            print(f\"Congratulations! You have guessed the number {random_number} in  {attempts} attempts.\")\n",
        "            break\n",
        "    except ValueError:\n",
        "        print(\"Enter an integer\")"
      ],
      "metadata": {
        "id": "iomCeUuW73NG",
        "colab": {
          "base_uri": "https://localhost:8080/"
        },
        "outputId": "16591447-85bc-4aa9-a7c4-79567f7fbfee"
      },
      "execution_count": null,
      "outputs": [
        {
          "output_type": "stream",
          "name": "stdout",
          "text": [
            "Try to guess a number from 1 to 100: 50\n",
            "The guessed number is less\n",
            "Try to guess a number from 1 to 100: 25\n",
            "The guessed number is higher\n",
            "Try to guess a number from 1 to 100: 35\n",
            "The guessed number is higher\n",
            "Try to guess a number from 1 to 100: 40\n",
            "Congratulations! You have guessed the number 40 in  4 attempts.\n"
          ]
        }
      ]
    },
    {
      "cell_type": "code",
      "source": [
        "# Code added on 28.10.2023\n",
        "import random\n",
        "print(\"Welcome to the Numerical Guessing Game!\")\n",
        "\n",
        "right = int(input(\"Enter an upper bound for the random number:\"))\n",
        "left = 1\n",
        "random_number = random.randint(left, right)\n",
        "attempts = 0\n",
        "\n",
        "while True:\n",
        "    guess = input(f\"Try to guess the number from {left} to {right}: \")\n",
        "\n",
        "    if not guess.isdigit():\n",
        "        print(\"You have entered incorrect data. Please enter an integer.\")\n",
        "        continue\n",
        "\n",
        "    guess = int(guess)\n",
        "    attempts += 1\n",
        "\n",
        "    if guess < left or guess > right:\n",
        "        print(f\"You entered an incorrect number. Enter a value between {left} and {right}.\")\n",
        "        continue\n",
        "\n",
        "    if guess < random_number:\n",
        "        print(\"The number is too small, try again!\")\n",
        "        left = guess + 1\n",
        "    elif guess > random_number:\n",
        "        print(\"The number is too large, try again!\")\n",
        "        right = guess - 1\n",
        "    else:\n",
        "        print(f\"You guessed it, congratulations! Number of attempts: {attempts}.\")\n",
        "        break\n",
        "\n",
        "print(\"Thank you for playing the Number Guessing game. See you later...\")"
      ],
      "metadata": {
        "colab": {
          "base_uri": "https://localhost:8080/"
        },
        "id": "1tkASqMOOmvs",
        "outputId": "477d9d5a-b555-4bfe-d99e-88927dcd75fe"
      },
      "execution_count": null,
      "outputs": [
        {
          "output_type": "stream",
          "name": "stdout",
          "text": [
            "Welcome to the Numerical Guessing Game!\n",
            "Enter an upper bound for the random number:1000\n",
            "Try to guess the number from 1 to 1000: 500\n",
            "The number is too large, try again!\n",
            "Try to guess the number from 1 to 499: 250\n",
            "The number is too small, try again!\n",
            "Try to guess the number from 251 to 499: 375\n",
            "The number is too small, try again!\n",
            "Try to guess the number from 376 to 499: 425\n",
            "The number is too small, try again!\n",
            "Try to guess the number from 426 to 499: 470\n",
            "The number is too large, try again!\n",
            "Try to guess the number from 426 to 469: 449\n",
            "The number is too large, try again!\n",
            "Try to guess the number from 426 to 448: 439\n",
            "The number is too large, try again!\n",
            "Try to guess the number from 426 to 438: 433\n",
            "The number is too large, try again!\n",
            "Try to guess the number from 426 to 432: 430\n",
            "The number is too large, try again!\n",
            "Try to guess the number from 426 to 429: 428\n",
            "You guessed it, congratulations! Number of attempts: 10.\n",
            "Thank you for playing the Number Guessing game. See you later...\n"
          ]
        }
      ]
    },
    {
      "cell_type": "markdown",
      "source": [
        "# Вітаю! Ви велика(ий) молодець, що впоралась(вся). Похваліть себе та побалуйте чимось приємним. Я Вами пишаюся."
      ],
      "metadata": {
        "id": "jTs-rqOptY2R"
      }
    }
  ]
}